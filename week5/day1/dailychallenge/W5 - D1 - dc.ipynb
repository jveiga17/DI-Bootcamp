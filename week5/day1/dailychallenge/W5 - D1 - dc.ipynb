{
 "cells": [
  {
   "cell_type": "code",
   "execution_count": 1,
   "id": "e1d73a8c",
   "metadata": {},
   "outputs": [],
   "source": [
    "import numpy as np"
   ]
  },
  {
   "cell_type": "code",
   "execution_count": 2,
   "id": "81f13e0c",
   "metadata": {},
   "outputs": [
    {
     "name": "stdout",
     "output_type": "stream",
     "text": [
      "[[83 74 23 91 19]\n",
      " [79 32 49 89 68]\n",
      " [18 15 81 80 25]\n",
      " [82 96 61  6 12]\n",
      " [17 64 84 38 51]]\n"
     ]
    }
   ],
   "source": [
    "data = np.array(np.random.randint(1, 100, size=25)).reshape(5,5)\n",
    "print(data)"
   ]
  },
  {
   "cell_type": "code",
   "execution_count": 7,
   "id": "4065d24a",
   "metadata": {},
   "outputs": [
    {
     "name": "stdout",
     "output_type": "stream",
     "text": [
      "[[83 74 23 91 19]\n",
      " [82 96 61  6 12]\n",
      " [18 15 81 80 84]\n",
      " [79 32 49 89 68]\n",
      " [17 64 84 38 51]]\n"
     ]
    }
   ],
   "source": [
    "#1 \n",
    "\n",
    "data[[1, 3]] = data[[3, 1]]\n",
    "print(data)"
   ]
  },
  {
   "cell_type": "code",
   "execution_count": 9,
   "id": "2215835f",
   "metadata": {},
   "outputs": [
    {
     "name": "stdout",
     "output_type": "stream",
     "text": [
      "[[0.85555556 0.75555556 0.18888889 0.94444444 0.14444444]\n",
      " [0.84444444 1.         0.61111111 0.         0.06666667]\n",
      " [0.13333333 0.1        0.83333333 0.82222222 0.86666667]\n",
      " [0.81111111 0.28888889 0.47777778 0.92222222 0.68888889]\n",
      " [0.12222222 0.64444444 0.86666667 0.35555556 0.5       ]]\n"
     ]
    }
   ],
   "source": [
    "#2\n",
    "\n",
    "normalized_data = (data - np.min(data)) / (np.max(data) - np.min(data))\n",
    "print(normalized_data)"
   ]
  },
  {
   "cell_type": "code",
   "execution_count": 10,
   "id": "597eb5ab",
   "metadata": {},
   "outputs": [
    {
     "name": "stdout",
     "output_type": "stream",
     "text": [
      "[[ 0.92213908  0.61657016 -1.11498701  1.19375589 -1.25079542]\n",
      " [ 0.88818697  1.36351639  0.17519284 -1.69217274 -1.48846013]\n",
      " [-1.28474752 -1.38660382  0.85423487  0.82028277  0.95609118]\n",
      " [ 0.78633067 -0.8094181  -0.23223237  1.12585168  0.41285755]\n",
      " [-1.31869962  0.27704915  0.95609118 -0.60570549 -0.16432817]]\n"
     ]
    }
   ],
   "source": [
    "#3\n",
    "\n",
    "z_score_data = (data - np.mean(data)) / np.std(data)\n",
    "print(z_score_data)"
   ]
  },
  {
   "cell_type": "code",
   "execution_count": 12,
   "id": "ab1639e9",
   "metadata": {},
   "outputs": [
    {
     "name": "stdout",
     "output_type": "stream",
     "text": [
      "[array([83, 74, 23, 91, 19]), array([82, 96, 61,  6, 12]), array([18, 15, 81, 80, 84]), array([79, 32, 49, 89, 68]), array([17, 64, 84, 38, 51])]\n"
     ]
    }
   ],
   "source": [
    "#4\n",
    "\n",
    "split_arrays = np.split(np.ravel(data), 5)   # np.ravel = function in NumPy that returns a flattened array (1D) containing all the elements of the input array\n",
    "                                             # \"5\" = specifies the number of equally-sized sub-arrays to create\n",
    "print(split_arrays)"
   ]
  },
  {
   "cell_type": "code",
   "execution_count": 14,
   "id": "7458d779",
   "metadata": {},
   "outputs": [
    {
     "name": "stdout",
     "output_type": "stream",
     "text": [
      "70\n"
     ]
    }
   ],
   "source": [
    "#5\n",
    "vector1 = np.array([1, 2, 3, 4, 5])\n",
    "vector2 = np.array([2, 3, 4, 5, 6])\n",
    "dot_product = np.dot(vector1, vector2)\n",
    "print(dot_product)"
   ]
  },
  {
   "cell_type": "code",
   "execution_count": 20,
   "id": "f579d8b7",
   "metadata": {},
   "outputs": [
    {
     "name": "stdout",
     "output_type": "stream",
     "text": [
      "[[ 540  720  900]\n",
      " [ 893 1132 1371]\n",
      " [ 645  759  873]]\n"
     ]
    }
   ],
   "source": [
    "#6\n",
    "data2 = np.array([[1, 2, 3], [4, 5, 6], [7, 8, 9]])\n",
    "matrix_multiplication = np.dot(data[:3, :3], data2) #[:3, :3] = selects 3 rows and 3 cols in order to make matrix mult. possible\n",
    "print(matrix_multiplication)"
   ]
  },
  {
   "cell_type": "code",
   "execution_count": null,
   "id": "7ef306d2",
   "metadata": {
    "scrolled": true
   },
   "outputs": [],
   "source": []
  },
  {
   "cell_type": "code",
   "execution_count": 28,
   "id": "cc91dabb",
   "metadata": {},
   "outputs": [
    {
     "name": "stdout",
     "output_type": "stream",
     "text": [
      "data3:\n",
      " [[59 21  9]\n",
      " [60 80 30]\n",
      " [97  1 19]\n",
      " [ 2 37 71]\n",
      " [57 87 42]]\n",
      "data4:\n",
      " [[1 2 3]\n",
      " [4 5 6]\n",
      " [7 8 9]]\n",
      "result:\n",
      " [[ 206  295  384]\n",
      " [ 590  760  930]\n",
      " [ 234  351  468]\n",
      " [ 647  757  867]\n",
      " [ 699  885 1071]]\n"
     ]
    }
   ],
   "source": [
    "#stam\n",
    "data3 = np.array(np.random.randint(1, 100, size=15)).reshape(5,3)\n",
    "print(\"data3:\\n\", data3)\n",
    "data4 = np.array([[1, 2, 3], [4, 5, 6], [7, 8, 9]])\n",
    "print(\"data4:\\n\", data4)\n",
    "matrix_multiplication2 = np.dot(data3, data4)\n",
    "print(\"result:\\n\", matrix_multiplication2)"
   ]
  },
  {
   "cell_type": "code",
   "execution_count": 33,
   "id": "013184a7",
   "metadata": {},
   "outputs": [
    {
     "name": "stdout",
     "output_type": "stream",
     "text": [
      "identity matrix:\n",
      " [[2. 0. 0.]\n",
      " [0. 2. 0.]\n",
      " [0. 0. 2.]]\n",
      "result:\n",
      " [[0.5 0.  0. ]\n",
      " [0.  0.5 0. ]\n",
      " [0.  0.  0.5]]\n"
     ]
    }
   ],
   "source": [
    "#7\n",
    "\n",
    "identity_matrix = np.eye(3) * 2 # .eye = generates id matrix\n",
    "print(\"identity matrix:\\n\", identity_matrix)\n",
    "inverse_matrix = np.linalg.inv(identity_matrix)\n",
    "print(\"result:\\n\", inverse_matrix)"
   ]
  },
  {
   "cell_type": "code",
   "execution_count": 35,
   "id": "66089a48",
   "metadata": {},
   "outputs": [
    {
     "name": "stdout",
     "output_type": "stream",
     "text": [
      "[181.4238077  12.2853833  66.290809 ] [[-0.6185732  -0.72878807 -0.5619531 ]\n",
      " [-0.75330164  0.68346772 -0.12714864]\n",
      " [-0.22339167  0.0417112   0.81733832]]\n"
     ]
    }
   ],
   "source": [
    "#8\n",
    "\n",
    "eigenvalues, eigenvectors = np.linalg.eig(data[:3, :3])\n",
    "print(eigenvalues, eigenvectors)"
   ]
  },
  {
   "cell_type": "code",
   "execution_count": 39,
   "id": "558ea081",
   "metadata": {},
   "outputs": [
    {
     "name": "stdout",
     "output_type": "stream",
     "text": [
      "[[83. nan 23. 91. 19.]\n",
      " [82. 96. 61. nan 12.]\n",
      " [18. 15. nan 80. 84.]\n",
      " [79. 32. 49. 89. 68.]\n",
      " [17. 64. 84. nan 51.]]\n"
     ]
    }
   ],
   "source": [
    "#9\n",
    "\n",
    "data_with_nans = data.astype(float).copy()\n",
    "indices_of_nans = np.random.choice(5, 5), np.random.choice(5, 5)\n",
    "data_with_nans[indices_of_nans] = np.nan\n",
    "print(data_with_nans)"
   ]
  },
  {
   "cell_type": "code",
   "execution_count": 40,
   "id": "1ac67661",
   "metadata": {},
   "outputs": [
    {
     "name": "stdout",
     "output_type": "stream",
     "text": [
      "[[83. 57. 23. 91. 19.]\n",
      " [82. 96. 61. 57. 12.]\n",
      " [18. 15. 57. 80. 84.]\n",
      " [79. 32. 49. 89. 68.]\n",
      " [17. 64. 84. 57. 51.]]\n"
     ]
    }
   ],
   "source": [
    "#10\n",
    "\n",
    "mean_value = np.nanmean(data_with_nans)\n",
    "data_with_nans[np.isnan(data_with_nans)] = mean_value\n",
    "print(data_with_nans)"
   ]
  },
  {
   "cell_type": "code",
   "execution_count": null,
   "id": "51d66ac8",
   "metadata": {},
   "outputs": [],
   "source": []
  }
 ],
 "metadata": {
  "kernelspec": {
   "display_name": "Python 3 (ipykernel)",
   "language": "python",
   "name": "python3"
  },
  "language_info": {
   "codemirror_mode": {
    "name": "ipython",
    "version": 3
   },
   "file_extension": ".py",
   "mimetype": "text/x-python",
   "name": "python",
   "nbconvert_exporter": "python",
   "pygments_lexer": "ipython3",
   "version": "3.11.5"
  }
 },
 "nbformat": 4,
 "nbformat_minor": 5
}
