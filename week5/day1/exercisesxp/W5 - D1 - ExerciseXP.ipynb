{
 "cells": [
  {
   "cell_type": "code",
   "execution_count": 1,
   "id": "bf553783",
   "metadata": {},
   "outputs": [],
   "source": [
    "#1\n",
    "import numpy as np"
   ]
  },
  {
   "cell_type": "code",
   "execution_count": 3,
   "id": "9ad6586d",
   "metadata": {},
   "outputs": [
    {
     "name": "stdout",
     "output_type": "stream",
     "text": [
      "[0. 0. 0. 0. 0. 0. 0. 0. 0. 0.]\n"
     ]
    }
   ],
   "source": [
    "#2\n",
    "zero_vector = np.zeros(10)  # first define the variable\n",
    "print(zero_vector)          # then print it"
   ]
  },
  {
   "cell_type": "code",
   "execution_count": 4,
   "id": "2dcd5f1b",
   "metadata": {},
   "outputs": [
    {
     "name": "stdout",
     "output_type": "stream",
     "text": [
      "80\n"
     ]
    }
   ],
   "source": [
    "#3\n",
    "memory_size = zero_vector.size * zero_vector.itemsize # .size =  total number of elements in the NumPy array ( = 10 )\n",
    "print(memory_size)                                    # .itemsize = how many bytes each element of the array is occupying\n",
    "                                                      # multiply size * itemsize = size in bytes of array"
   ]
  },
  {
   "cell_type": "code",
   "execution_count": 5,
   "id": "2a9b73f9",
   "metadata": {},
   "outputs": [],
   "source": [
    "#4\n",
    "# python -c 'import numpy; help(numpy.add)"
   ]
  },
  {
   "cell_type": "code",
   "execution_count": 6,
   "id": "16f7e6d0",
   "metadata": {},
   "outputs": [
    {
     "name": "stdout",
     "output_type": "stream",
     "text": [
      "[10 11 12 13 14 15 16 17 18 19 20 21 22 23 24 25 26 27 28 29 30 31 32 33\n",
      " 34 35 36 37 38 39 40 41 42 43 44 45 46 47 48 49]\n"
     ]
    }
   ],
   "source": [
    "#5\n",
    "vector_10_to_49 = np.arange(10, 50) # 50 is not inclueded in the .arange\n",
    "print(vector_10_to_49)              # bc the obj is to get to num 49"
   ]
  },
  {
   "cell_type": "code",
   "execution_count": 7,
   "id": "5a204074",
   "metadata": {},
   "outputs": [
    {
     "name": "stdout",
     "output_type": "stream",
     "text": [
      "[49 48 47 46 45 44 43 42 41 40 39 38 37 36 35 34 33 32 31 30 29 28 27 26\n",
      " 25 24 23 22 21 20 19 18 17 16 15 14 13 12 11 10]\n"
     ]
    }
   ],
   "source": [
    "#6\n",
    "reversed_vector = vector_10_to_49[::-1]  # [::-1] --> is the slicing notation used to reverse the elements of the array\n",
    "print(reversed_vector)"
   ]
  },
  {
   "cell_type": "code",
   "execution_count": 8,
   "id": "ae91ddd0",
   "metadata": {},
   "outputs": [
    {
     "name": "stdout",
     "output_type": "stream",
     "text": [
      "[[0 1 2]\n",
      " [3 4 5]\n",
      " [6 7 8]]\n"
     ]
    }
   ],
   "source": [
    "#7\n",
    "matrix_3x3 = np.arange(9).reshape(3, 3) # .arange(9) = 9 --> not inclusive\n",
    "print(matrix_3x3)                       # .reshape = row x cols"
   ]
  },
  {
   "cell_type": "code",
   "execution_count": 12,
   "id": "a917df87",
   "metadata": {},
   "outputs": [
    {
     "name": "stdout",
     "output_type": "stream",
     "text": [
      "(array([0, 1, 4], dtype=int64),)\n"
     ]
    }
   ],
   "source": [
    "#8\n",
    "non_zero_indices = np.nonzero([1, 2, 0, 0, 4, 0]) # finds the indices of the elements that are not 0 inthe array\n",
    "print(non_zero_indices)"
   ]
  },
  {
   "cell_type": "code",
   "execution_count": 13,
   "id": "c753b846",
   "metadata": {},
   "outputs": [
    {
     "name": "stdout",
     "output_type": "stream",
     "text": [
      "[[1. 0. 0.]\n",
      " [0. 1. 0.]\n",
      " [0. 0. 1.]]\n"
     ]
    }
   ],
   "source": [
    "#9\n",
    "identity_matrix = np.eye(3) # function is used to create a 2D identity matrix\n",
    "print(identity_matrix)"
   ]
  },
  {
   "cell_type": "code",
   "execution_count": 28,
   "id": "f24d0b9d",
   "metadata": {},
   "outputs": [
    {
     "name": "stdout",
     "output_type": "stream",
     "text": [
      "[[0 1 2 3 4]\n",
      " [0 1 2 3 4]\n",
      " [0 1 2 3 4]\n",
      " [0 1 2 3 4]\n",
      " [0 1 2 3 4]]\n"
     ]
    }
   ],
   "source": [
    "#10\n",
    "matrix_5x5 = np.tile(np.arange(5), (5, 1))   # np.tile(range of array), (num times to repeat array - rows, repeat array - cols)\n",
    "print(matrix_5x5)"
   ]
  },
  {
   "cell_type": "code",
   "execution_count": 32,
   "id": "b1aec580",
   "metadata": {},
   "outputs": [
    {
     "name": "stdout",
     "output_type": "stream",
     "text": [
      "[0.1        0.18888889 0.27777778 0.36666667 0.45555556 0.54444444\n",
      " 0.63333333 0.72222222 0.81111111 0.9       ]\n"
     ]
    }
   ],
   "source": [
    "#11\n",
    "vector_0_to_1_excluded = np.linspace(0.1, 0.9, 10)\n",
    "print(vector_0_to_1_excluded)"
   ]
  },
  {
   "cell_type": "code",
   "execution_count": 33,
   "id": "c1cd3d0b",
   "metadata": {},
   "outputs": [
    {
     "name": "stdout",
     "output_type": "stream",
     "text": [
      "[0.01077867 0.3621515  0.45777699 0.50540077 0.66031475 0.73409153\n",
      " 0.74067911 0.76039788 0.935657   0.98681803]\n"
     ]
    }
   ],
   "source": [
    "#12\n",
    "random_vector = np.random.rand(10) # .rand = specifies the number of random numbers to generate\n",
    "sorted_vector = np.sort(random_vector)\n",
    "print(sorted_vector)"
   ]
  },
  {
   "cell_type": "code",
   "execution_count": 36,
   "id": "04f666ae",
   "metadata": {},
   "outputs": [
    {
     "name": "stdout",
     "output_type": "stream",
     "text": [
      "[[0.01077867 0.3621515 ]\n",
      " [0.45777699 0.50540077]\n",
      " [0.66031475 0.73409153]\n",
      " [0.74067911 0.76039788]\n",
      " [0.935657   0.98681803]]\n"
     ]
    }
   ],
   "source": [
    "#stam\n",
    "sorted_vector_grid = sorted_vector.reshape(5, 2)\n",
    "print(sorted_vector_grid)"
   ]
  },
  {
   "cell_type": "code",
   "execution_count": 37,
   "id": "910ea8c5",
   "metadata": {},
   "outputs": [
    {
     "name": "stdout",
     "output_type": "stream",
     "text": [
      "Machine parameters for int8\n",
      "---------------------------------------------------------------\n",
      "min = -128\n",
      "max = 127\n",
      "---------------------------------------------------------------\n",
      "\n",
      "Machine parameters for int32\n",
      "---------------------------------------------------------------\n",
      "min = -2147483648\n",
      "max = 2147483647\n",
      "---------------------------------------------------------------\n",
      "\n",
      "Machine parameters for int64\n",
      "---------------------------------------------------------------\n",
      "min = -9223372036854775808\n",
      "max = 9223372036854775807\n",
      "---------------------------------------------------------------\n",
      "\n",
      "Machine parameters for float32\n",
      "---------------------------------------------------------------\n",
      "precision =   6   resolution = 1.0000000e-06\n",
      "machep =    -23   eps =        1.1920929e-07\n",
      "negep =     -24   epsneg =     5.9604645e-08\n",
      "minexp =   -126   tiny =       1.1754944e-38\n",
      "maxexp =    128   max =        3.4028235e+38\n",
      "nexp =        8   min =        -max\n",
      "smallest_normal = 1.1754944e-38   smallest_subnormal = 1.4012985e-45\n",
      "---------------------------------------------------------------\n",
      "\n",
      "Machine parameters for float64\n",
      "---------------------------------------------------------------\n",
      "precision =  15   resolution = 1.0000000000000001e-15\n",
      "machep =    -52   eps =        2.2204460492503131e-16\n",
      "negep =     -53   epsneg =     1.1102230246251565e-16\n",
      "minexp =  -1022   tiny =       2.2250738585072014e-308\n",
      "maxexp =   1024   max =        1.7976931348623157e+308\n",
      "nexp =       11   min =        -max\n",
      "smallest_normal = 2.2250738585072014e-308   smallest_subnormal = 4.9406564584124654e-324\n",
      "---------------------------------------------------------------\n",
      "\n"
     ]
    }
   ],
   "source": [
    "#13\n",
    "print(np.iinfo(np.int8))\n",
    "print(np.iinfo(np.int32))\n",
    "print(np.iinfo(np.int64))\n",
    "print(np.finfo(np.float32))\n",
    "print(np.finfo(np.float64))"
   ]
  },
  {
   "cell_type": "code",
   "execution_count": 40,
   "id": "b9000f8f",
   "metadata": {},
   "outputs": [
    {
     "name": "stdout",
     "output_type": "stream",
     "text": [
      "[0 0 0 0 0]\n"
     ]
    }
   ],
   "source": [
    "#14\n",
    "float_array = np.random.rand(5).astype(np.float32)\n",
    "int_array = float_array.astype(np.int32)\n",
    "print(int_array)"
   ]
  },
  {
   "cell_type": "code",
   "execution_count": 43,
   "id": "93c3f0fd",
   "metadata": {},
   "outputs": [
    {
     "name": "stdout",
     "output_type": "stream",
     "text": [
      "[[-0.23048477 -0.04223475  0.27271952]\n",
      " [ 0.2039774   0.12916942 -0.33314683]\n",
      " [ 0.06244238  0.07672964 -0.13917202]]\n"
     ]
    }
   ],
   "source": [
    "#15\n",
    "matrix = np.random.rand(3, 3)\n",
    "mean_subtracted_matrix = matrix - np.mean(matrix, axis=1, keepdims=True)\n",
    "print(mean_subtracted_matrix)"
   ]
  },
  {
   "cell_type": "code",
   "execution_count": 44,
   "id": "80077d39",
   "metadata": {},
   "outputs": [
    {
     "name": "stdout",
     "output_type": "stream",
     "text": [
      "[[1 2 3]\n",
      " [4 5 6]\n",
      " [7 8 9]]\n"
     ]
    }
   ],
   "source": [
    "#16\n",
    "array_to_sort = np.array([[1, 2, 3], [4, 5, 6], [7, 8, 9]]) \n",
    "sorted_array = array_to_sort[array_to_sort[:, 1].argsort()] # [:, 1] means selecting all rows (:) in the second column (1).\n",
    "print(sorted_array)                                         # argsort() - this returns the indices that would sort the values in the second column in ascending order"
   ]
  },
  {
   "cell_type": "code",
   "execution_count": 46,
   "id": "6f570c24",
   "metadata": {},
   "outputs": [
    {
     "name": "stdout",
     "output_type": "stream",
     "text": [
      "[[4 5 6]\n",
      " [1 2 3]\n",
      " [7 8 9]]\n"
     ]
    }
   ],
   "source": [
    "#17\n",
    "array_to_swap = np.array([[1, 2, 3], [4, 5, 6], [7, 8, 9]])\n",
    "array_to_swap[[0, 1]] = array_to_swap[[1, 0]               # array_to_swap[[0, 1]]: extracts the rows w/ indices 0 and 1\n",
    "print(array_to_swap)             # = array_to_swap[[1, 0]]: replaces the rows w/ indices 0 and 1 w/ the rows w/ indices 1 and 0"
   ]
  },
  {
   "cell_type": "code",
   "execution_count": 47,
   "id": "d4671e1f",
   "metadata": {},
   "outputs": [
    {
     "name": "stdout",
     "output_type": "stream",
     "text": [
      "[0 0 1 1 1 2]\n"
     ]
    }
   ],
   "source": [
    "C = np.array([2, 3, 1])\n",
    "A = np.repeat(np.arange(len(C)), C)\n",
    "print(A)"
   ]
  },
  {
   "cell_type": "code",
   "execution_count": null,
   "id": "5fc1a349",
   "metadata": {},
   "outputs": [],
   "source": []
  }
 ],
 "metadata": {
  "kernelspec": {
   "display_name": "Python 3 (ipykernel)",
   "language": "python",
   "name": "python3"
  },
  "language_info": {
   "codemirror_mode": {
    "name": "ipython",
    "version": 3
   },
   "file_extension": ".py",
   "mimetype": "text/x-python",
   "name": "python",
   "nbconvert_exporter": "python",
   "pygments_lexer": "ipython3",
   "version": "3.11.5"
  }
 },
 "nbformat": 4,
 "nbformat_minor": 5
}
