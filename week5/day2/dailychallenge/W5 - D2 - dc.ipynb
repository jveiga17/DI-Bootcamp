{
 "cells": [
  {
   "cell_type": "code",
   "execution_count": 1,
   "id": "aa509708",
   "metadata": {},
   "outputs": [],
   "source": [
    "#1\n",
    "import pandas as pd\n",
    "import numpy as np\n",
    "import matplotlib.pyplot as plt   # for visualisation of data"
   ]
  },
  {
   "cell_type": "code",
   "execution_count": 2,
   "id": "e02d218b",
   "metadata": {},
   "outputs": [],
   "source": [
    "#2\n",
    "file_path = \"C:\\\\Users\\\\User\\\\Desktop\\\\datasets\\\\starbucks.csv\"\n",
    "starbucks = pd.read_csv(file_path)"
   ]
  },
  {
   "cell_type": "code",
   "execution_count": 4,
   "id": "d60a1070",
   "metadata": {},
   "outputs": [
    {
     "name": "stdout",
     "output_type": "stream",
     "text": [
      "First 10 entries of 'starbucks':\n",
      "          Beverage_category       Beverage      Beverage_prep  Calories  \\\n",
      "0                   Coffee  Brewed Coffee              Short         3   \n",
      "1                   Coffee  Brewed Coffee               Tall         4   \n",
      "2                   Coffee  Brewed Coffee             Grande         5   \n",
      "3                   Coffee  Brewed Coffee              Venti         5   \n",
      "4  Classic Espresso Drinks    Caffè Latte  Short Nonfat Milk        70   \n",
      "5  Classic Espresso Drinks    Caffè Latte            2% Milk       100   \n",
      "6  Classic Espresso Drinks    Caffè Latte            Soymilk        70   \n",
      "7  Classic Espresso Drinks    Caffè Latte   Tall Nonfat Milk       100   \n",
      "8  Classic Espresso Drinks    Caffè Latte            2% Milk       150   \n",
      "9  Classic Espresso Drinks    Caffè Latte            Soymilk       110   \n",
      "\n",
      "   Total Fat (g)  Trans Fat (g)   Saturated Fat (g)   Sodium (mg)  \\\n",
      "0            0.1             0.0                0.0             0   \n",
      "1            0.1             0.0                0.0             0   \n",
      "2            0.1             0.0                0.0             0   \n",
      "3            0.1             0.0                0.0             0   \n",
      "4            0.1             0.1                0.0             5   \n",
      "5            3.5             2.0                0.1            15   \n",
      "6            2.5             0.4                0.0             0   \n",
      "7            0.2             0.2                0.0             5   \n",
      "8              6             3.0                0.2            25   \n",
      "9            4.5             0.5                0.0             0   \n",
      "\n",
      "    Total Carbohydrates (g)   Cholesterol (mg)   Dietary Fibre (g)  \\\n",
      "0                          5                 0                   0   \n",
      "1                         10                 0                   0   \n",
      "2                         10                 0                   0   \n",
      "3                         10                 0                   0   \n",
      "4                         75                10                   0   \n",
      "5                         85                10                   0   \n",
      "6                         65                 6                   1   \n",
      "7                        120                15                   0   \n",
      "8                        135                15                   0   \n",
      "9                        105                10                   1   \n",
      "\n",
      "    Sugars (g)   Protein (g)  Vitamin A (% DV)  Vitamin C (% DV)  \\\n",
      "0            0            0.3                0%               0%   \n",
      "1            0            0.5                0%               0%   \n",
      "2            0            1.0                0%               0%   \n",
      "3            0            1.0                0%               0%   \n",
      "4            9            6.0               10%               0%   \n",
      "5            9            6.0               10%               0%   \n",
      "6            4            5.0                6%               0%   \n",
      "7           14           10.0               15%               0%   \n",
      "8           14           10.0               15%               0%   \n",
      "9            6            8.0               10%               0%   \n",
      "\n",
      "   Calcium (% DV)  Iron (% DV)  Caffeine (mg)  \n",
      "0               0%           0%           175  \n",
      "1               0%           0%           260  \n",
      "2               0%           0%           330  \n",
      "3               2%           0%           410  \n",
      "4              20%           0%            75  \n",
      "5              20%           0%            75  \n",
      "6              20%           8%            75  \n",
      "7              30%           0%            75  \n",
      "8              30%           0%            75  \n",
      "9              30%          15%            75  \n"
     ]
    }
   ],
   "source": [
    "#3\n",
    "print(\"First 10 entries of 'starbucks':\\n\", starbucks.head(10))"
   ]
  },
  {
   "cell_type": "code",
   "execution_count": 5,
   "id": "2518147c",
   "metadata": {},
   "outputs": [
    {
     "name": "stdout",
     "output_type": "stream",
     "text": [
      "\n",
      "Total number of entries in 'starbucks': 242\n"
     ]
    }
   ],
   "source": [
    "#4\n",
    "total_entries = starbucks.shape[0]\n",
    "print(\"\\nTotal number of entries in 'starbucks':\", total_entries)"
   ]
  },
  {
   "cell_type": "code",
   "execution_count": 6,
   "id": "93658aa1",
   "metadata": {},
   "outputs": [
    {
     "name": "stdout",
     "output_type": "stream",
     "text": [
      "\n",
      "Column names in 'starbucks':\n",
      " Index(['Beverage_category', 'Beverage', 'Beverage_prep', 'Calories',\n",
      "       ' Total Fat (g)', 'Trans Fat (g) ', 'Saturated Fat (g)', ' Sodium (mg)',\n",
      "       ' Total Carbohydrates (g) ', 'Cholesterol (mg)', ' Dietary Fibre (g)',\n",
      "       ' Sugars (g)', ' Protein (g) ', 'Vitamin A (% DV) ', 'Vitamin C (% DV)',\n",
      "       ' Calcium (% DV) ', 'Iron (% DV) ', 'Caffeine (mg)'],\n",
      "      dtype='object')\n"
     ]
    }
   ],
   "source": [
    "#5\n",
    "print(\"\\nColumn names in 'starbucks':\\n\", starbucks.columns)"
   ]
  },
  {
   "cell_type": "code",
   "execution_count": 7,
   "id": "bda7148c",
   "metadata": {},
   "outputs": [
    {
     "name": "stdout",
     "output_type": "stream",
     "text": [
      "\n",
      "Indexing of 'starbucks':\n",
      "RangeIndex(start=0, stop=242, step=1)\n"
     ]
    }
   ],
   "source": [
    "#6\n",
    "print(\"\\nIndexing of 'starbucks':\")\n",
    "print(starbucks.index)"
   ]
  },
  {
   "cell_type": "code",
   "execution_count": 9,
   "id": "6a474be9",
   "metadata": {},
   "outputs": [
    {
     "name": "stdout",
     "output_type": "stream",
     "text": [
      "\n",
      "The drink category with the most amount of sugar on average: Frappuccino® Blended Coffee\n"
     ]
    }
   ],
   "source": [
    "#7\n",
    "max_sugar_drink = starbucks.groupby('Beverage_category')[' Sugars (g)'].mean().idxmax()\n",
    "print(\"\\nThe drink category with the most amount of sugar on average:\", max_sugar_drink)"
   ]
  },
  {
   "cell_type": "code",
   "execution_count": 12,
   "id": "5eeb9a72",
   "metadata": {},
   "outputs": [
    {
     "name": "stdout",
     "output_type": "stream",
     "text": [
      "\n",
      "Number of different drink categories: 9\n"
     ]
    }
   ],
   "source": [
    "#8\n",
    "num_categories = starbucks['Beverage_category'].nunique()\n",
    "print(\"\\nNumber of different drink categories:\", num_categories)"
   ]
  },
  {
   "cell_type": "code",
   "execution_count": 13,
   "id": "683b2d5b",
   "metadata": {},
   "outputs": [
    {
     "name": "stdout",
     "output_type": "stream",
     "text": [
      "\n",
      "The 5 most frequent drink categories: ['Classic Espresso Drinks', 'Tazo® Tea Drinks', 'Signature Espresso Drinks', 'Frappuccino® Blended Coffee', 'Shaken Iced Beverages']\n"
     ]
    }
   ],
   "source": [
    "#9\n",
    "top_categories = starbucks['Beverage_category'].value_counts().head(5).index.tolist()\n",
    "print(\"\\nThe 5 most frequent drink categories:\", top_categories)"
   ]
  },
  {
   "cell_type": "code",
   "execution_count": 16,
   "id": "b215f507",
   "metadata": {},
   "outputs": [
    {
     "name": "stdout",
     "output_type": "stream",
     "text": [
      "\n",
      "Average calorie content per drink category:\n",
      "Beverage_category\n",
      "Classic Espresso Drinks              140.172414\n",
      "Coffee                                 4.250000\n",
      "Frappuccino® Blended Coffee          276.944444\n",
      "Frappuccino® Blended Crème           233.076923\n",
      "Frappuccino® Light Blended Coffee    162.500000\n",
      "Shaken Iced Beverages                114.444444\n",
      "Signature Espresso Drinks            250.000000\n",
      "Smoothies                            282.222222\n",
      "Tazo® Tea Drinks                     177.307692\n",
      "Name: Calories, dtype: float64\n"
     ]
    }
   ],
   "source": [
    "#10\n",
    "avg_calories_per_category = starbucks.groupby('Beverage_category')['Calories'].mean()\n",
    "print(\"\\nAverage calorie content per drink category:\")\n",
    "print(avg_calories_per_category)"
   ]
  },
  {
   "cell_type": "code",
   "execution_count": 22,
   "id": "903a0679",
   "metadata": {},
   "outputs": [
    {
     "name": "stdout",
     "output_type": "stream",
     "text": [
      "0      58.333333\n",
      "1      65.000000\n",
      "2      66.000000\n",
      "3      82.000000\n",
      "4       1.071429\n",
      "         ...    \n",
      "237     0.000000\n",
      "238     0.000000\n",
      "239     0.000000\n",
      "240     0.000000\n",
      "241     0.000000\n",
      "Name: caffeine_to_calories, Length: 242, dtype: float64\n"
     ]
    }
   ],
   "source": [
    "#11\n",
    "\n",
    "#first\n",
    "starbucks['Caffeine (mg)'] = pd.to_numeric(starbucks['Caffeine (mg)'], errors='coerce')\n",
    "starbucks['Calories'] = pd.to_numeric(starbucks['Calories'], errors='coerce')\n",
    "\n",
    "#answer\n",
    "starbucks['caffeine_to_calories'] = starbucks['Caffeine (mg)'] / starbucks['Calories']\n",
    "print(starbucks['caffeine_to_calories'])"
   ]
  },
  {
   "cell_type": "code",
   "execution_count": 23,
   "id": "a3dd5f4f",
   "metadata": {},
   "outputs": [
    {
     "name": "stdout",
     "output_type": "stream",
     "text": [
      "\n",
      "The drink category with the highest 'caffeine_to_calories' ratio on average: Coffee\n"
     ]
    }
   ],
   "source": [
    "max_caffeine_to_calories_category = starbucks.groupby('Beverage_category')['caffeine_to_calories'].mean().idxmax()\n",
    "print(\"\\nThe drink category with the highest 'caffeine_to_calories' ratio on average:\", max_caffeine_to_calories_category)"
   ]
  },
  {
   "cell_type": "code",
   "execution_count": 24,
   "id": "dff3a28c",
   "metadata": {},
   "outputs": [
    {
     "data": {
      "image/png": "[encoded data removed]",
      "text/plain": [
       "<Figure size 1000x600 with 1 Axes>"
      ]
     },
     "metadata": {},
     "output_type": "display_data"
    }
   ],
   "source": [
    "plt.figure(figsize=(10, 6))\n",
    "starbucks.groupby('Beverage_category')['caffeine_to_calories'].mean().sort_values().plot(kind='barh', color='skyblue')\n",
    "plt.xlabel('Average Caffeine to Calories Ratio')\n",
    "plt.ylabel('Drink Category')\n",
    "plt.title('Average Caffeine to Calories Ratio for Each Drink Category')\n",
    "plt.show()"
   ]
  },
  {
   "cell_type": "code",
   "execution_count": 27,
   "id": "e68cd7dc",
   "metadata": {},
   "outputs": [
    {
     "name": "stdout",
     "output_type": "stream",
     "text": [
      "\n",
      "Correlation between ' Sugars (g)' and ' Caffeine (mg)': -0.0965997570625648\n"
     ]
    }
   ],
   "source": [
    "#What is the relationship between sugar and caffeine across different drink categories?”\n",
    "\n",
    "correlation_sugar_caffeine = starbucks[' Sugars (g)'].corr(starbucks['Caffeine (mg)'])\n",
    "print(\"\\nCorrelation between ' Sugars (g)' and ' Caffeine (mg)':\", correlation_sugar_caffeine)"
   ]
  },
  {
   "cell_type": "code",
   "execution_count": null,
   "id": "46602995",
   "metadata": {},
   "outputs": [],
   "source": []
  }
 ],
 "metadata": {
  "kernelspec": {
   "display_name": "Python 3 (ipykernel)",
   "language": "python",
   "name": "python3"
  },
  "language_info": {
   "codemirror_mode": {
    "name": "ipython",
    "version": 3
   },
   "file_extension": ".py",
   "mimetype": "text/x-python",
   "name": "python",
   "nbconvert_exporter": "python",
   "pygments_lexer": "ipython3",
   "version": "3.11.5"
  }
 },
 "nbformat": 4,
 "nbformat_minor": 5
}
