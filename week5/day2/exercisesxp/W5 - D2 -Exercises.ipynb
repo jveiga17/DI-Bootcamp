{
 "cells": [
  {
   "cell_type": "code",
   "execution_count": 1,
   "id": "5df01835",
   "metadata": {},
   "outputs": [],
   "source": [
    "#Exercise 1 "
   ]
  },
  {
   "cell_type": "code",
   "execution_count": 8,
   "id": "e9f1f712",
   "metadata": {},
   "outputs": [],
   "source": [
    "#1 \n",
    "\n",
    "# pip install pandas\n",
    "\n",
    "import pandas as pd"
   ]
  },
  {
   "cell_type": "code",
   "execution_count": 9,
   "id": "7496b109",
   "metadata": {},
   "outputs": [],
   "source": [
    "#2\n",
    "\n",
    "file_path = \"C:\\\\Users\\\\User\\\\Desktop\\\\DI-Bootcamp\\\\week5\\\\day2\\\\chipo.csv\"\n",
    "chipo = pd.read_csv(file_path)"
   ]
  },
  {
   "cell_type": "code",
   "execution_count": 10,
   "id": "1712d509",
   "metadata": {},
   "outputs": [
    {
     "name": "stdout",
     "output_type": "stream",
     "text": [
      "   order_id  quantity                              item_name  \\\n",
      "0         1         1           Chips and Fresh Tomato Salsa   \n",
      "1         1         1                                   Izze   \n",
      "2         1         1                       Nantucket Nectar   \n",
      "3         1         1  Chips and Tomatillo-Green Chili Salsa   \n",
      "4         2         2                           Chicken Bowl   \n",
      "5         3         1                           Chicken Bowl   \n",
      "6         3         1                          Side of Chips   \n",
      "7         4         1                          Steak Burrito   \n",
      "8         4         1                       Steak Soft Tacos   \n",
      "9         5         1                          Steak Burrito   \n",
      "\n",
      "                                  choice_description item_price  \n",
      "0                                                NaN     $2.39   \n",
      "1                                       [Clementine]     $3.39   \n",
      "2                                            [Apple]     $3.39   \n",
      "3                                                NaN     $2.39   \n",
      "4  [Tomatillo-Red Chili Salsa (Hot), [Black Beans...    $16.98   \n",
      "5  [Fresh Tomato Salsa (Mild), [Rice, Cheese, Sou...    $10.98   \n",
      "6                                                NaN     $1.69   \n",
      "7  [Tomatillo Red Chili Salsa, [Fajita Vegetables...    $11.75   \n",
      "8  [Tomatillo Green Chili Salsa, [Pinto Beans, Ch...     $9.25   \n",
      "9  [Fresh Tomato Salsa, [Rice, Black Beans, Pinto...     $9.25   \n"
     ]
    }
   ],
   "source": [
    "#3\n",
    "\n",
    "print(chipo.head(10))"
   ]
  },
  {
   "cell_type": "code",
   "execution_count": 11,
   "id": "ea4cf87d",
   "metadata": {},
   "outputs": [
    {
     "name": "stdout",
     "output_type": "stream",
     "text": [
      "Total number of entries (rows): 4622\n"
     ]
    }
   ],
   "source": [
    "#4\n",
    "\n",
    "print(\"Total number of entries (rows):\", chipo.shape[0]) # .shape[0] refers to the first element"
   ]
  },
  {
   "cell_type": "code",
   "execution_count": 12,
   "id": "91a79662",
   "metadata": {},
   "outputs": [
    {
     "name": "stdout",
     "output_type": "stream",
     "text": [
      "Total number of columns: 5\n"
     ]
    }
   ],
   "source": [
    "#5\n",
    "\n",
    "print(\"Total number of columns:\", chipo.shape[1])"
   ]
  },
  {
   "cell_type": "code",
   "execution_count": 13,
   "id": "a739044f",
   "metadata": {},
   "outputs": [
    {
     "name": "stdout",
     "output_type": "stream",
     "text": [
      "Column names: Index(['order_id', 'quantity', 'item_name', 'choice_description',\n",
      "       'item_price'],\n",
      "      dtype='object')\n"
     ]
    }
   ],
   "source": [
    "#6\n",
    "\n",
    "print(\"Column names:\", chipo.columns)"
   ]
  },
  {
   "cell_type": "code",
   "execution_count": 14,
   "id": "278d55f9",
   "metadata": {},
   "outputs": [
    {
     "name": "stdout",
     "output_type": "stream",
     "text": [
      "Index: RangeIndex(start=0, stop=4622, step=1)\n"
     ]
    }
   ],
   "source": [
    "#7\n",
    "\n",
    "print(\"Index:\", chipo.index)"
   ]
  },
  {
   "cell_type": "code",
   "execution_count": 15,
   "id": "8ccc0b5e",
   "metadata": {},
   "outputs": [
    {
     "name": "stdout",
     "output_type": "stream",
     "text": [
      "Most ordered item:\n",
      " item_name\n",
      "Chicken Bowl    726\n",
      "Name: count, dtype: int64\n"
     ]
    }
   ],
   "source": [
    "#8\n",
    "\n",
    "print(\"Most ordered item:\\n\", chipo['item_name'].value_counts().head(1))"
   ]
  },
  {
   "cell_type": "code",
   "execution_count": 16,
   "id": "3bf9ed92",
   "metadata": {},
   "outputs": [
    {
     "name": "stdout",
     "output_type": "stream",
     "text": [
      "Total number of items ordered: 4972\n"
     ]
    }
   ],
   "source": [
    "#9\n",
    "\n",
    "total_items_ordered = chipo['quantity'].sum()\n",
    "print(\"Total number of items ordered:\", total_items_ordered)"
   ]
  },
  {
   "cell_type": "code",
   "execution_count": 17,
   "id": "358cebe7",
   "metadata": {},
   "outputs": [
    {
     "name": "stdout",
     "output_type": "stream",
     "text": [
      "Most ordered item from 'choice_description':\n",
      " choice_description\n",
      "[Diet Coke]    134\n",
      "Name: count, dtype: int64\n"
     ]
    }
   ],
   "source": [
    "#10\n",
    "\n",
    "print(\"Most ordered item from 'choice_description':\\n\", chipo['choice_description'].value_counts().head(1))"
   ]
  },
  {
   "cell_type": "code",
   "execution_count": 18,
   "id": "3c9fba31",
   "metadata": {},
   "outputs": [],
   "source": [
    "#11\n",
    "\n",
    "chipo['item_price'] = chipo['item_price'].apply(lambda x: float(x.replace('$', '')))"
   ]
  },
  {
   "cell_type": "code",
   "execution_count": 19,
   "id": "5056b90f",
   "metadata": {},
   "outputs": [
    {
     "name": "stdout",
     "output_type": "stream",
     "text": [
      "Total revenue: 34500.16\n"
     ]
    }
   ],
   "source": [
    "#12\n",
    "\n",
    "total_revenue = chipo['item_price'].sum()\n",
    "print(\"Total revenue:\", total_revenue)"
   ]
  },
  {
   "cell_type": "code",
   "execution_count": 20,
   "id": "bcff8060",
   "metadata": {},
   "outputs": [
    {
     "name": "stdout",
     "output_type": "stream",
     "text": [
      "Total number of orders: 1834\n"
     ]
    }
   ],
   "source": [
    "#13\n",
    "\n",
    "total_orders = chipo['order_id'].nunique()\n",
    "print(\"Total number of orders:\", total_orders)"
   ]
  },
  {
   "cell_type": "code",
   "execution_count": 21,
   "id": "1138da3d",
   "metadata": {},
   "outputs": [
    {
     "name": "stdout",
     "output_type": "stream",
     "text": [
      "Average order value: 18.811428571428575\n"
     ]
    }
   ],
   "source": [
    "#14\n",
    "\n",
    "average_order_value = total_revenue / total_orders\n",
    "print(\"Average order value:\", average_order_value)"
   ]
  },
  {
   "cell_type": "code",
   "execution_count": 22,
   "id": "0f6aaeb2",
   "metadata": {},
   "outputs": [
    {
     "name": "stdout",
     "output_type": "stream",
     "text": [
      "Total number of unique items sold: 50\n"
     ]
    }
   ],
   "source": [
    "#15\n",
    "\n",
    "unique_items_sold = chipo['item_name'].nunique()\n",
    "print(\"Total number of unique items sold:\", unique_items_sold)"
   ]
  },
  {
   "cell_type": "code",
   "execution_count": 23,
   "id": "38f6f0e1",
   "metadata": {},
   "outputs": [],
   "source": [
    "#---------------------------------------------------------"
   ]
  },
  {
   "cell_type": "code",
   "execution_count": 24,
   "id": "479abd9d",
   "metadata": {},
   "outputs": [],
   "source": [
    "#Exercise 2 "
   ]
  },
  {
   "cell_type": "code",
   "execution_count": 25,
   "id": "97d75081",
   "metadata": {},
   "outputs": [
    {
     "name": "stdout",
     "output_type": "stream",
     "text": [
      "Count of products that cost more than $10: 31\n"
     ]
    }
   ],
   "source": [
    "count_expensive_products = chipo[chipo['item_price'] > 10]['item_name'].nunique()\n",
    "\n",
    "print(\"Count of products that cost more than $10:\", count_expensive_products)"
   ]
  },
  {
   "cell_type": "code",
   "execution_count": 26,
   "id": "d71f4859",
   "metadata": {},
   "outputs": [],
   "source": [
    "#---------------------------------------------------------"
   ]
  },
  {
   "cell_type": "code",
   "execution_count": 27,
   "id": "cdc7eccc",
   "metadata": {},
   "outputs": [],
   "source": [
    "#Exercise 3"
   ]
  },
  {
   "cell_type": "code",
   "execution_count": 41,
   "id": "55d95091",
   "metadata": {},
   "outputs": [],
   "source": [
    "file_path2 = \"C:\\\\Users\\\\User\\\\Desktop\\\\DI-Bootcamp\\\\week5\\\\day2\\\\users.csv\"\n",
    "users = pd.read_csv(file_path2, sep='|')"
   ]
  },
  {
   "cell_type": "code",
   "execution_count": 45,
   "id": "12d5239a",
   "metadata": {},
   "outputs": [],
   "source": [
    "mean_age_per_occupation = users.groupby('occupation')['age'].mean()\n",
    "print(mean_age_per_occupation)"
   ]
  },
  {
   "cell_type": "code",
   "execution_count": 46,
   "id": "ff83cbb7",
   "metadata": {},
   "outputs": [],
   "source": [
    "#----------------------------------------------------------"
   ]
  },
  {
   "cell_type": "code",
   "execution_count": 47,
   "id": "334760a1",
   "metadata": {},
   "outputs": [],
   "source": [
    "#Exercise 4 "
   ]
  },
  {
   "cell_type": "code",
   "execution_count": 48,
   "id": "190f3eea",
   "metadata": {},
   "outputs": [],
   "source": [
    "import numpy as np"
   ]
  },
  {
   "cell_type": "code",
   "execution_count": 50,
   "id": "2285159d",
   "metadata": {},
   "outputs": [
    {
     "name": "stdout",
     "output_type": "stream",
     "text": [
      "data1:\n",
      "    ID     Name\n",
      "0   1    Alice\n",
      "1   2      Bob\n",
      "2   3  Charlie\n",
      "data2:\n",
      "    ID   Name\n",
      "0   4  David\n",
      "1   5    Eva\n",
      "2   6  Frank\n",
      "data3:\n",
      "    ID  Score\n",
      "0   1     12\n",
      "1   2     37\n",
      "2   3     85\n",
      "3   4     50\n",
      "4   5      6\n",
      "5   6     64\n",
      "   ID  Score\n",
      "0   1     12\n",
      "1   2     37\n",
      "2   3     85\n",
      "3   4     50\n",
      "4   5      6\n",
      "5   6     64\n"
     ]
    }
   ],
   "source": [
    "data1 = pd.DataFrame({\n",
    "    'ID': [1, 2, 3],\n",
    "    'Name': ['Alice', 'Bob', 'Charlie']\n",
    "})\n",
    "\n",
    "data2 = pd.DataFrame({\n",
    "    'ID': [4, 5, 6],\n",
    "    'Name': ['David', 'Eva', 'Frank']\n",
    "})\n",
    "\n",
    "data3 = pd.DataFrame({\n",
    "    'ID': [1, 2, 3, 4, 5, 6],\n",
    "    'Score': np.random.randint(0, 101, size=6)  # Generating random scores between 0 and 100\n",
    "})\n",
    "\n",
    "\n",
    "print(\"data1:\\n\", data1)\n",
    "\n",
    "print(\"data2:\\n\", data2)\n",
    "\n",
    "print(\"data3:\\n\", data3)\n",
    "print(data3)"
   ]
  },
  {
   "cell_type": "code",
   "execution_count": 51,
   "id": "dae78264",
   "metadata": {},
   "outputs": [],
   "source": [
    "all_data = pd.concat([data1, data2], ignore_index=True)"
   ]
  },
  {
   "cell_type": "code",
   "execution_count": 52,
   "id": "034d111e",
   "metadata": {},
   "outputs": [
    {
     "name": "stdout",
     "output_type": "stream",
     "text": [
      "\n",
      "all_data (merged along rows):    ID     Name\n",
      "0   1    Alice\n",
      "1   2      Bob\n",
      "2   3  Charlie\n",
      "3   4    David\n",
      "4   5      Eva\n",
      "5   6    Frank\n"
     ]
    }
   ],
   "source": [
    "print(\"\\nall_data (merged along rows):\", all_data)"
   ]
  },
  {
   "cell_type": "code",
   "execution_count": 53,
   "id": "047e1b84",
   "metadata": {},
   "outputs": [
    {
     "name": "stdout",
     "output_type": "stream",
     "text": [
      "\n",
      "all_data_col (merged along columns):    ID     Name  ID   Name\n",
      "0   1    Alice   4  David\n",
      "1   2      Bob   5    Eva\n",
      "2   3  Charlie   6  Frank\n"
     ]
    }
   ],
   "source": [
    "all_data_col = pd.concat([data1, data2], axis=1)\n",
    "print(\"\\nall_data_col (merged along columns):\", all_data_col)"
   ]
  },
  {
   "cell_type": "code",
   "execution_count": 54,
   "id": "a2186a10",
   "metadata": {},
   "outputs": [],
   "source": [
    "#---------------------------------------------------------"
   ]
  },
  {
   "cell_type": "code",
   "execution_count": 55,
   "id": "04ac0a39",
   "metadata": {},
   "outputs": [],
   "source": [
    "#Exercise 5"
   ]
  },
  {
   "cell_type": "code",
   "execution_count": 57,
   "id": "cc15f82b",
   "metadata": {},
   "outputs": [],
   "source": [
    "file_path3 = \"C:\\\\Users\\\\User\\\\Desktop\\\\DI-Bootcamp\\\\week5\\\\day2\\\\iris-data.csv\"\n",
    "iris = pd.read_csv(file_path3)"
   ]
  },
  {
   "cell_type": "code",
   "execution_count": 60,
   "id": "a998575b",
   "metadata": {},
   "outputs": [
    {
     "name": "stdout",
     "output_type": "stream",
     "text": [
      "First few rows of 'iris': \n",
      "    5.1,3.5,1.4,0.2,Iris-setosa\n",
      "0  4.9,3.0,1.4,0.2,Iris-setosa\n",
      "1  4.7,3.2,1.3,0.2,Iris-setosa\n",
      "2  4.6,3.1,1.5,0.2,Iris-setosa\n",
      "3  5.0,3.6,1.4,0.2,Iris-setosa\n",
      "4  5.4,3.9,1.7,0.4,Iris-setosa\n"
     ]
    }
   ],
   "source": [
    "print(\"First few rows of 'iris': \\n\", iris.head())"
   ]
  },
  {
   "cell_type": "code",
   "execution_count": 61,
   "id": "baf7509b",
   "metadata": {},
   "outputs": [
    {
     "name": "stdout",
     "output_type": "stream",
     "text": [
      "\n",
      "Missing values in 'iris':\n",
      " 5.1,3.5,1.4,0.2,Iris-setosa    1\n",
      "dtype: int64\n"
     ]
    }
   ],
   "source": [
    "missing_values = iris.isnull().sum()\n",
    "\n",
    "print(\"\\nMissing values in 'iris':\\n\", missing_values)"
   ]
  },
  {
   "cell_type": "code",
   "execution_count": 62,
   "id": "036f9f9f",
   "metadata": {},
   "outputs": [],
   "source": [
    "#---------------------------------------------------------"
   ]
  },
  {
   "cell_type": "code",
   "execution_count": 63,
   "id": "057ad8a7",
   "metadata": {},
   "outputs": [],
   "source": [
    "#Exercise 6"
   ]
  },
  {
   "cell_type": "code",
   "execution_count": 64,
   "id": "8936d026",
   "metadata": {},
   "outputs": [],
   "source": [
    "pokemon_data = {\n",
    "    'evolution': ['Ivysaur', 'Charmeleon', 'Wartortle', 'Metapod'],\n",
    "    'hp': [45, 39, 44, 45],\n",
    "    'name': ['Bulbasaur', 'Charmander', 'Squirtle', 'Caterpie'],\n",
    "    'pokedex': ['yes', 'no', 'yes', 'no'],\n",
    "    'type': ['grass', 'fire', 'water', 'bug']\n",
    "}"
   ]
  },
  {
   "cell_type": "code",
   "execution_count": 67,
   "id": "710e60ff",
   "metadata": {},
   "outputs": [],
   "source": [
    "pokemon = pd.DataFrame(pokemon_data)\n",
    "pokemon_reordered = pokemon[['name', 'type', 'hp', 'evolution', 'pokedex']]"
   ]
  },
  {
   "cell_type": "code",
   "execution_count": 68,
   "id": "55ddaac5",
   "metadata": {},
   "outputs": [
    {
     "name": "stdout",
     "output_type": "stream",
     "text": [
      "\n",
      "Reordered 'pokemon' DataFrame:\n",
      "          name   type  hp   evolution pokedex\n",
      "0   Bulbasaur  grass  45     Ivysaur     yes\n",
      "1  Charmander   fire  39  Charmeleon      no\n",
      "2    Squirtle  water  44   Wartortle     yes\n",
      "3    Caterpie    bug  45     Metapod      no\n"
     ]
    }
   ],
   "source": [
    "print(\"\\nReordered 'pokemon' DataFrame:\\n\", pokemon_reordered)"
   ]
  },
  {
   "cell_type": "code",
   "execution_count": 69,
   "id": "c9238c29",
   "metadata": {},
   "outputs": [],
   "source": [
    "#---------------------------------------------------------"
   ]
  },
  {
   "cell_type": "code",
   "execution_count": 70,
   "id": "c91f4a6c",
   "metadata": {},
   "outputs": [],
   "source": [
    "#Exercise 7 "
   ]
  },
  {
   "cell_type": "code",
   "execution_count": 71,
   "id": "a70fca77",
   "metadata": {},
   "outputs": [],
   "source": [
    "file_path4 = \"C:\\\\Users\\\\User\\\\Desktop\\\\DI-Bootcamp\\\\week5\\\\day2\\\\baby_names.csv\"\n",
    "baby_names = pd.read_csv(file_path4)"
   ]
  },
  {
   "cell_type": "code",
   "execution_count": 74,
   "id": "44f2750c",
   "metadata": {},
   "outputs": [
    {
     "name": "stdout",
     "output_type": "stream",
     "text": [
      "First 10 entries of 'baby_names':\n",
      "    Unnamed: 0     Id      Name  Year Gender State  Count\n",
      "0       11349  11350      Emma  2004      F    AK     62\n",
      "1       11350  11351   Madison  2004      F    AK     48\n",
      "2       11351  11352    Hannah  2004      F    AK     46\n",
      "3       11352  11353     Grace  2004      F    AK     44\n",
      "4       11353  11354     Emily  2004      F    AK     41\n",
      "5       11354  11355   Abigail  2004      F    AK     37\n",
      "6       11355  11356    Olivia  2004      F    AK     33\n",
      "7       11356  11357  Isabella  2004      F    AK     30\n",
      "8       11357  11358    Alyssa  2004      F    AK     29\n",
      "9       11358  11359    Sophia  2004      F    AK     28\n"
     ]
    }
   ],
   "source": [
    "print(\"First 10 entries of 'baby_names':\\n\", baby_names.head(10))"
   ]
  },
  {
   "cell_type": "code",
   "execution_count": 75,
   "id": "7c154444",
   "metadata": {},
   "outputs": [],
   "source": [
    "columns_to_drop = ['Unnamed: 0', 'Id']\n",
    "baby_names_cleaned = baby_names.drop(columns=columns_to_drop, errors='ignore')"
   ]
  },
  {
   "cell_type": "code",
   "execution_count": 76,
   "id": "212ad042",
   "metadata": {},
   "outputs": [
    {
     "name": "stdout",
     "output_type": "stream",
     "text": [
      "\n",
      "DataFrame after dropping columns:\n",
      "             Name  Year Gender State  Count\n",
      "0           Emma  2004      F    AK     62\n",
      "1        Madison  2004      F    AK     48\n",
      "2         Hannah  2004      F    AK     46\n",
      "3          Grace  2004      F    AK     44\n",
      "4          Emily  2004      F    AK     41\n",
      "...          ...   ...    ...   ...    ...\n",
      "1016390     Seth  2014      M    WY      5\n",
      "1016391  Spencer  2014      M    WY      5\n",
      "1016392     Tyce  2014      M    WY      5\n",
      "1016393   Victor  2014      M    WY      5\n",
      "1016394   Waylon  2014      M    WY      5\n",
      "\n",
      "[1016395 rows x 5 columns]\n"
     ]
    }
   ],
   "source": [
    "print(\"\\nDataFrame after dropping columns:\\n\", baby_names_cleaned)"
   ]
  },
  {
   "cell_type": "code",
   "execution_count": 77,
   "id": "fa9190e3",
   "metadata": {},
   "outputs": [],
   "source": [
    "#---------------------------------------------------------"
   ]
  },
  {
   "cell_type": "code",
   "execution_count": 78,
   "id": "be1972fa",
   "metadata": {},
   "outputs": [],
   "source": [
    "#Exercise 8"
   ]
  },
  {
   "cell_type": "code",
   "execution_count": 79,
   "id": "a183764e",
   "metadata": {},
   "outputs": [],
   "source": [
    "temperature = [30, 31, 29, 32, 33, 34, 28, 27, 25, 35]\n",
    "humidity = [80, 75, 70, 85, 90, 80, 75, 60, 65, 70]\n",
    "wind_speed = [5, 6, 7, 8, 9, 4, 10, 5, 6, 7]"
   ]
  },
  {
   "cell_type": "code",
   "execution_count": 80,
   "id": "1016df1c",
   "metadata": {},
   "outputs": [],
   "source": [
    "date_rng = pd.date_range(start='2021-01-01', end='2021-01-10', freq='D')\n",
    "\n",
    "weather_data = pd.DataFrame({'Date': date_rng, 'Temperature': temperature, 'Humidity': humidity, 'Wind_Speed': wind_speed})"
   ]
  },
  {
   "cell_type": "code",
   "execution_count": 81,
   "id": "eb9b438b",
   "metadata": {},
   "outputs": [
    {
     "name": "stdout",
     "output_type": "stream",
     "text": [
      "Original DataFrame:         Date  Temperature  Humidity  Wind_Speed\n",
      "0 2021-01-01           30        80           5\n",
      "1 2021-01-02           31        75           6\n",
      "2 2021-01-03           29        70           7\n",
      "3 2021-01-04           32        85           8\n",
      "4 2021-01-05           33        90           9\n",
      "5 2021-01-06           34        80           4\n",
      "6 2021-01-07           28        75          10\n",
      "7 2021-01-08           27        60           5\n",
      "8 2021-01-09           25        65           6\n",
      "9 2021-01-10           35        70           7\n"
     ]
    }
   ],
   "source": [
    "print(\"Original DataFrame:\", weather_data)"
   ]
  },
  {
   "cell_type": "code",
   "execution_count": 82,
   "id": "c7a23d8a",
   "metadata": {},
   "outputs": [
    {
     "name": "stdout",
     "output_type": "stream",
     "text": [
      "\n",
      "The frequency of the dataset is D.\n"
     ]
    }
   ],
   "source": [
    "frequency = pd.infer_freq(weather_data['Date'])\n",
    "print(f\"\\nThe frequency of the dataset is {frequency}.\")"
   ]
  },
  {
   "cell_type": "code",
   "execution_count": 83,
   "id": "63b1c9c7",
   "metadata": {},
   "outputs": [
    {
     "name": "stdout",
     "output_type": "stream",
     "text": [
      "\n",
      "DataFrame with 'Date' as the index:\n",
      "             Temperature  Humidity  Wind_Speed\n",
      "Date                                         \n",
      "2021-01-01           30        80           5\n",
      "2021-01-02           31        75           6\n",
      "2021-01-03           29        70           7\n",
      "2021-01-04           32        85           8\n",
      "2021-01-05           33        90           9\n",
      "2021-01-06           34        80           4\n",
      "2021-01-07           28        75          10\n",
      "2021-01-08           27        60           5\n",
      "2021-01-09           25        65           6\n",
      "2021-01-10           35        70           7\n"
     ]
    }
   ],
   "source": [
    "weather_data.set_index('Date', inplace=True)\n",
    "\n",
    "print(\"\\nDataFrame with 'Date' as the index:\\n\", weather_data)"
   ]
  },
  {
   "cell_type": "code",
   "execution_count": null,
   "id": "91a1f740",
   "metadata": {},
   "outputs": [],
   "source": []
  }
 ],
 "metadata": {
  "kernelspec": {
   "display_name": "Python 3 (ipykernel)",
   "language": "python",
   "name": "python3"
  },
  "language_info": {
   "codemirror_mode": {
    "name": "ipython",
    "version": 3
   },
   "file_extension": ".py",
   "mimetype": "text/x-python",
   "name": "python",
   "nbconvert_exporter": "python",
   "pygments_lexer": "ipython3",
   "version": "3.11.5"
  }
 },
 "nbformat": 4,
 "nbformat_minor": 5
}
